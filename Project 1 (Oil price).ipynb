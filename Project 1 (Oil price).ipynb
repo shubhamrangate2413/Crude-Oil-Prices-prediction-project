{
 "cells": [
  {
   "cell_type": "code",
   "execution_count": 1,
   "id": "890003bc",
   "metadata": {
    "ExecuteTime": {
     "end_time": "2023-07-25T20:27:28.931576Z",
     "start_time": "2023-07-25T20:27:27.302152Z"
    }
   },
   "outputs": [],
   "source": [
    "import pandas as pd \n",
    "import numpy as np\n",
    "import seaborn as sns\n",
    "import matplotlib.pyplot as plt\n",
    "%matplotlib inline\n",
    "\n",
    "import warnings\n",
    "warnings.filterwarnings('ignore')"
   ]
  },
  {
   "cell_type": "markdown",
   "id": "21e17664",
   "metadata": {},
   "source": [
    "# Using df1 and df2 because one file didn't had enough data. So, by merging we acquired data from jan,2000 till july,2023"
   ]
  },
  {
   "cell_type": "code",
   "execution_count": 2,
   "id": "2f10a6c0",
   "metadata": {
    "ExecuteTime": {
     "end_time": "2023-07-25T20:27:29.582786Z",
     "start_time": "2023-07-25T20:27:28.933575Z"
    },
    "scrolled": true
   },
   "outputs": [
    {
     "data": {
      "text/html": [
       "<div>\n",
       "<style scoped>\n",
       "    .dataframe tbody tr th:only-of-type {\n",
       "        vertical-align: middle;\n",
       "    }\n",
       "\n",
       "    .dataframe tbody tr th {\n",
       "        vertical-align: top;\n",
       "    }\n",
       "\n",
       "    .dataframe thead th {\n",
       "        text-align: right;\n",
       "    }\n",
       "</style>\n",
       "<table border=\"1\" class=\"dataframe\">\n",
       "  <thead>\n",
       "    <tr style=\"text-align: right;\">\n",
       "      <th></th>\n",
       "      <th>Date</th>\n",
       "      <th>Price</th>\n",
       "      <th>Open</th>\n",
       "      <th>High</th>\n",
       "      <th>Low</th>\n",
       "      <th>Volume</th>\n",
       "      <th>Chg_</th>\n",
       "    </tr>\n",
       "  </thead>\n",
       "  <tbody>\n",
       "    <tr>\n",
       "      <th>0</th>\n",
       "      <td>Jul 25, 2023</td>\n",
       "      <td>79.64</td>\n",
       "      <td>78.86</td>\n",
       "      <td>79.82</td>\n",
       "      <td>78.30</td>\n",
       "      <td>0</td>\n",
       "      <td>1.14%</td>\n",
       "    </tr>\n",
       "    <tr>\n",
       "      <th>1</th>\n",
       "      <td>Jul 24, 2023</td>\n",
       "      <td>78.74</td>\n",
       "      <td>77.01</td>\n",
       "      <td>79.28</td>\n",
       "      <td>76.44</td>\n",
       "      <td>368.29K</td>\n",
       "      <td>2.17%</td>\n",
       "    </tr>\n",
       "    <tr>\n",
       "      <th>2</th>\n",
       "      <td>Jul 21, 2023</td>\n",
       "      <td>77.07</td>\n",
       "      <td>75.70</td>\n",
       "      <td>77.29</td>\n",
       "      <td>75.69</td>\n",
       "      <td>308.11K</td>\n",
       "      <td>1.90%</td>\n",
       "    </tr>\n",
       "    <tr>\n",
       "      <th>3</th>\n",
       "      <td>Jul 20, 2023</td>\n",
       "      <td>75.63</td>\n",
       "      <td>75.35</td>\n",
       "      <td>76.15</td>\n",
       "      <td>74.72</td>\n",
       "      <td>23.71K</td>\n",
       "      <td>0.37%</td>\n",
       "    </tr>\n",
       "    <tr>\n",
       "      <th>4</th>\n",
       "      <td>Jul 19, 2023</td>\n",
       "      <td>75.35</td>\n",
       "      <td>75.84</td>\n",
       "      <td>76.97</td>\n",
       "      <td>75.07</td>\n",
       "      <td>92.92K</td>\n",
       "      <td>-0.53%</td>\n",
       "    </tr>\n",
       "    <tr>\n",
       "      <th>...</th>\n",
       "      <td>...</td>\n",
       "      <td>...</td>\n",
       "      <td>...</td>\n",
       "      <td>...</td>\n",
       "      <td>...</td>\n",
       "      <td>...</td>\n",
       "      <td>...</td>\n",
       "    </tr>\n",
       "    <tr>\n",
       "      <th>6033</th>\n",
       "      <td>Jan 10, 2000</td>\n",
       "      <td>24.67</td>\n",
       "      <td>24.22</td>\n",
       "      <td>24.75</td>\n",
       "      <td>24.02</td>\n",
       "      <td>68.90K</td>\n",
       "      <td>1.86%</td>\n",
       "    </tr>\n",
       "    <tr>\n",
       "      <th>6034</th>\n",
       "      <td>Jan 07, 2000</td>\n",
       "      <td>24.22</td>\n",
       "      <td>24.65</td>\n",
       "      <td>25.00</td>\n",
       "      <td>24.15</td>\n",
       "      <td>91.83K</td>\n",
       "      <td>-2.26%</td>\n",
       "    </tr>\n",
       "    <tr>\n",
       "      <th>6035</th>\n",
       "      <td>Jan 06, 2000</td>\n",
       "      <td>24.78</td>\n",
       "      <td>24.80</td>\n",
       "      <td>25.34</td>\n",
       "      <td>24.51</td>\n",
       "      <td>85.25K</td>\n",
       "      <td>-0.52%</td>\n",
       "    </tr>\n",
       "    <tr>\n",
       "      <th>6036</th>\n",
       "      <td>Jan 05, 2000</td>\n",
       "      <td>24.91</td>\n",
       "      <td>25.50</td>\n",
       "      <td>25.61</td>\n",
       "      <td>24.87</td>\n",
       "      <td>70.94K</td>\n",
       "      <td>-2.50%</td>\n",
       "    </tr>\n",
       "    <tr>\n",
       "      <th>6037</th>\n",
       "      <td>Jan 04, 2000</td>\n",
       "      <td>25.55</td>\n",
       "      <td>25.20</td>\n",
       "      <td>25.69</td>\n",
       "      <td>24.71</td>\n",
       "      <td>74.79K</td>\n",
       "      <td>-0.20%</td>\n",
       "    </tr>\n",
       "  </tbody>\n",
       "</table>\n",
       "<p>6038 rows × 7 columns</p>\n",
       "</div>"
      ],
      "text/plain": [
       "              Date  Price   Open   High    Low   Volume    Chg_\n",
       "0     Jul 25, 2023  79.64  78.86  79.82  78.30        0   1.14%\n",
       "1     Jul 24, 2023  78.74  77.01  79.28  76.44  368.29K   2.17%\n",
       "2     Jul 21, 2023  77.07  75.70  77.29  75.69  308.11K   1.90%\n",
       "3     Jul 20, 2023  75.63  75.35  76.15  74.72   23.71K   0.37%\n",
       "4     Jul 19, 2023  75.35  75.84  76.97  75.07   92.92K  -0.53%\n",
       "...            ...    ...    ...    ...    ...      ...     ...\n",
       "6033  Jan 10, 2000  24.67  24.22  24.75  24.02   68.90K   1.86%\n",
       "6034  Jan 07, 2000  24.22  24.65  25.00  24.15   91.83K  -2.26%\n",
       "6035  Jan 06, 2000  24.78  24.80  25.34  24.51   85.25K  -0.52%\n",
       "6036  Jan 05, 2000  24.91  25.50  25.61  24.87   70.94K  -2.50%\n",
       "6037  Jan 04, 2000  25.55  25.20  25.69  24.71   74.79K  -0.20%\n",
       "\n",
       "[6038 rows x 7 columns]"
      ]
     },
     "execution_count": 2,
     "metadata": {},
     "output_type": "execute_result"
    }
   ],
   "source": [
    "df1 = pd.read_csv(\"E:\\data science excelr\\excelr project 1\\Crude Oil WTI Futures Historical Prices - Investing.com India(csv).csv\")\n",
    "df2 = pd.read_csv(\"E:\\data science excelr\\excelr project 1\\Crude Oil WTI Futures Historical Prices - Investing.com India(csv(2)).csv\")\n",
    "merged_df = pd.concat([df1, df2], ignore_index=True)\n",
    "output_file_path = \"merged_file.xlsx\"\n",
    "merged_df.to_excel(output_file_path, index=False)\n",
    "merged_df"
   ]
  },
  {
   "cell_type": "markdown",
   "id": "2277b94e",
   "metadata": {},
   "source": [
    "# Sorting only necessary columns"
   ]
  },
  {
   "cell_type": "code",
   "execution_count": 3,
   "id": "37a29ca1",
   "metadata": {
    "ExecuteTime": {
     "end_time": "2023-07-25T20:27:29.597764Z",
     "start_time": "2023-07-25T20:27:29.582786Z"
    },
    "scrolled": true
   },
   "outputs": [
    {
     "data": {
      "text/html": [
       "<div>\n",
       "<style scoped>\n",
       "    .dataframe tbody tr th:only-of-type {\n",
       "        vertical-align: middle;\n",
       "    }\n",
       "\n",
       "    .dataframe tbody tr th {\n",
       "        vertical-align: top;\n",
       "    }\n",
       "\n",
       "    .dataframe thead th {\n",
       "        text-align: right;\n",
       "    }\n",
       "</style>\n",
       "<table border=\"1\" class=\"dataframe\">\n",
       "  <thead>\n",
       "    <tr style=\"text-align: right;\">\n",
       "      <th></th>\n",
       "      <th>Date</th>\n",
       "      <th>Price</th>\n",
       "    </tr>\n",
       "  </thead>\n",
       "  <tbody>\n",
       "    <tr>\n",
       "      <th>0</th>\n",
       "      <td>Jul 25, 2023</td>\n",
       "      <td>79.64</td>\n",
       "    </tr>\n",
       "    <tr>\n",
       "      <th>1</th>\n",
       "      <td>Jul 24, 2023</td>\n",
       "      <td>78.74</td>\n",
       "    </tr>\n",
       "    <tr>\n",
       "      <th>2</th>\n",
       "      <td>Jul 21, 2023</td>\n",
       "      <td>77.07</td>\n",
       "    </tr>\n",
       "    <tr>\n",
       "      <th>3</th>\n",
       "      <td>Jul 20, 2023</td>\n",
       "      <td>75.63</td>\n",
       "    </tr>\n",
       "    <tr>\n",
       "      <th>4</th>\n",
       "      <td>Jul 19, 2023</td>\n",
       "      <td>75.35</td>\n",
       "    </tr>\n",
       "    <tr>\n",
       "      <th>...</th>\n",
       "      <td>...</td>\n",
       "      <td>...</td>\n",
       "    </tr>\n",
       "    <tr>\n",
       "      <th>6033</th>\n",
       "      <td>Jan 10, 2000</td>\n",
       "      <td>24.67</td>\n",
       "    </tr>\n",
       "    <tr>\n",
       "      <th>6034</th>\n",
       "      <td>Jan 07, 2000</td>\n",
       "      <td>24.22</td>\n",
       "    </tr>\n",
       "    <tr>\n",
       "      <th>6035</th>\n",
       "      <td>Jan 06, 2000</td>\n",
       "      <td>24.78</td>\n",
       "    </tr>\n",
       "    <tr>\n",
       "      <th>6036</th>\n",
       "      <td>Jan 05, 2000</td>\n",
       "      <td>24.91</td>\n",
       "    </tr>\n",
       "    <tr>\n",
       "      <th>6037</th>\n",
       "      <td>Jan 04, 2000</td>\n",
       "      <td>25.55</td>\n",
       "    </tr>\n",
       "  </tbody>\n",
       "</table>\n",
       "<p>6038 rows × 2 columns</p>\n",
       "</div>"
      ],
      "text/plain": [
       "              Date  Price\n",
       "0     Jul 25, 2023  79.64\n",
       "1     Jul 24, 2023  78.74\n",
       "2     Jul 21, 2023  77.07\n",
       "3     Jul 20, 2023  75.63\n",
       "4     Jul 19, 2023  75.35\n",
       "...            ...    ...\n",
       "6033  Jan 10, 2000  24.67\n",
       "6034  Jan 07, 2000  24.22\n",
       "6035  Jan 06, 2000  24.78\n",
       "6036  Jan 05, 2000  24.91\n",
       "6037  Jan 04, 2000  25.55\n",
       "\n",
       "[6038 rows x 2 columns]"
      ]
     },
     "execution_count": 3,
     "metadata": {},
     "output_type": "execute_result"
    }
   ],
   "source": [
    "df = merged_df.iloc[:,:2]\n",
    "df"
   ]
  },
  {
   "cell_type": "code",
   "execution_count": 4,
   "id": "5a35f3d3",
   "metadata": {
    "ExecuteTime": {
     "end_time": "2023-07-25T20:27:29.613393Z",
     "start_time": "2023-07-25T20:27:29.597764Z"
    }
   },
   "outputs": [
    {
     "name": "stdout",
     "output_type": "stream",
     "text": [
      "<class 'pandas.core.frame.DataFrame'>\n",
      "RangeIndex: 6038 entries, 0 to 6037\n",
      "Data columns (total 2 columns):\n",
      " #   Column  Non-Null Count  Dtype  \n",
      "---  ------  --------------  -----  \n",
      " 0   Date    6038 non-null   object \n",
      " 1   Price   6038 non-null   float64\n",
      "dtypes: float64(1), object(1)\n",
      "memory usage: 94.5+ KB\n"
     ]
    }
   ],
   "source": [
    "df.info()"
   ]
  },
  {
   "cell_type": "code",
   "execution_count": 5,
   "id": "f6018337",
   "metadata": {
    "ExecuteTime": {
     "end_time": "2023-07-25T20:27:29.630190Z",
     "start_time": "2023-07-25T20:27:29.614592Z"
    }
   },
   "outputs": [
    {
     "data": {
      "text/plain": [
       "0       False\n",
       "1       False\n",
       "2       False\n",
       "3       False\n",
       "4       False\n",
       "        ...  \n",
       "6033    False\n",
       "6034    False\n",
       "6035    False\n",
       "6036    False\n",
       "6037    False\n",
       "Length: 6038, dtype: bool"
      ]
     },
     "execution_count": 5,
     "metadata": {},
     "output_type": "execute_result"
    }
   ],
   "source": [
    "df.duplicated(keep= False)"
   ]
  },
  {
   "cell_type": "code",
   "execution_count": 6,
   "id": "d3dca6f7",
   "metadata": {
    "ExecuteTime": {
     "end_time": "2023-07-25T20:27:29.646237Z",
     "start_time": "2023-07-25T20:27:29.631143Z"
    }
   },
   "outputs": [
    {
     "data": {
      "text/plain": [
       "(6038, 2)"
      ]
     },
     "execution_count": 6,
     "metadata": {},
     "output_type": "execute_result"
    }
   ],
   "source": [
    "df.shape"
   ]
  },
  {
   "cell_type": "code",
   "execution_count": 7,
   "id": "9d724b76",
   "metadata": {
    "ExecuteTime": {
     "end_time": "2023-07-25T20:27:29.663535Z",
     "start_time": "2023-07-25T20:27:29.647951Z"
    }
   },
   "outputs": [
    {
     "data": {
      "text/html": [
       "<div>\n",
       "<style scoped>\n",
       "    .dataframe tbody tr th:only-of-type {\n",
       "        vertical-align: middle;\n",
       "    }\n",
       "\n",
       "    .dataframe tbody tr th {\n",
       "        vertical-align: top;\n",
       "    }\n",
       "\n",
       "    .dataframe thead th {\n",
       "        text-align: right;\n",
       "    }\n",
       "</style>\n",
       "<table border=\"1\" class=\"dataframe\">\n",
       "  <thead>\n",
       "    <tr style=\"text-align: right;\">\n",
       "      <th></th>\n",
       "      <th>Price</th>\n",
       "    </tr>\n",
       "  </thead>\n",
       "  <tbody>\n",
       "    <tr>\n",
       "      <th>count</th>\n",
       "      <td>6038.000000</td>\n",
       "    </tr>\n",
       "    <tr>\n",
       "      <th>mean</th>\n",
       "      <td>62.963321</td>\n",
       "    </tr>\n",
       "    <tr>\n",
       "      <th>std</th>\n",
       "      <td>25.762228</td>\n",
       "    </tr>\n",
       "    <tr>\n",
       "      <th>min</th>\n",
       "      <td>-37.630000</td>\n",
       "    </tr>\n",
       "    <tr>\n",
       "      <th>25%</th>\n",
       "      <td>42.762500</td>\n",
       "    </tr>\n",
       "    <tr>\n",
       "      <th>50%</th>\n",
       "      <td>60.590000</td>\n",
       "    </tr>\n",
       "    <tr>\n",
       "      <th>75%</th>\n",
       "      <td>82.377500</td>\n",
       "    </tr>\n",
       "    <tr>\n",
       "      <th>max</th>\n",
       "      <td>145.290000</td>\n",
       "    </tr>\n",
       "  </tbody>\n",
       "</table>\n",
       "</div>"
      ],
      "text/plain": [
       "             Price\n",
       "count  6038.000000\n",
       "mean     62.963321\n",
       "std      25.762228\n",
       "min     -37.630000\n",
       "25%      42.762500\n",
       "50%      60.590000\n",
       "75%      82.377500\n",
       "max     145.290000"
      ]
     },
     "execution_count": 7,
     "metadata": {},
     "output_type": "execute_result"
    }
   ],
   "source": [
    "df.describe()"
   ]
  },
  {
   "cell_type": "markdown",
   "id": "3230811c",
   "metadata": {},
   "source": [
    "# Making python recognise the date column and then setting it as index column"
   ]
  },
  {
   "cell_type": "code",
   "execution_count": 8,
   "id": "ff24b5a3",
   "metadata": {
    "ExecuteTime": {
     "end_time": "2023-07-25T20:27:30.138331Z",
     "start_time": "2023-07-25T20:27:29.664471Z"
    }
   },
   "outputs": [
    {
     "data": {
      "text/html": [
       "<div>\n",
       "<style scoped>\n",
       "    .dataframe tbody tr th:only-of-type {\n",
       "        vertical-align: middle;\n",
       "    }\n",
       "\n",
       "    .dataframe tbody tr th {\n",
       "        vertical-align: top;\n",
       "    }\n",
       "\n",
       "    .dataframe thead th {\n",
       "        text-align: right;\n",
       "    }\n",
       "</style>\n",
       "<table border=\"1\" class=\"dataframe\">\n",
       "  <thead>\n",
       "    <tr style=\"text-align: right;\">\n",
       "      <th></th>\n",
       "      <th>Price</th>\n",
       "    </tr>\n",
       "    <tr>\n",
       "      <th>Date</th>\n",
       "      <th></th>\n",
       "    </tr>\n",
       "  </thead>\n",
       "  <tbody>\n",
       "    <tr>\n",
       "      <th>2023-07-25</th>\n",
       "      <td>79.64</td>\n",
       "    </tr>\n",
       "    <tr>\n",
       "      <th>2023-07-24</th>\n",
       "      <td>78.74</td>\n",
       "    </tr>\n",
       "    <tr>\n",
       "      <th>2023-07-21</th>\n",
       "      <td>77.07</td>\n",
       "    </tr>\n",
       "    <tr>\n",
       "      <th>2023-07-20</th>\n",
       "      <td>75.63</td>\n",
       "    </tr>\n",
       "    <tr>\n",
       "      <th>2023-07-19</th>\n",
       "      <td>75.35</td>\n",
       "    </tr>\n",
       "    <tr>\n",
       "      <th>...</th>\n",
       "      <td>...</td>\n",
       "    </tr>\n",
       "    <tr>\n",
       "      <th>2000-01-10</th>\n",
       "      <td>24.67</td>\n",
       "    </tr>\n",
       "    <tr>\n",
       "      <th>2000-01-07</th>\n",
       "      <td>24.22</td>\n",
       "    </tr>\n",
       "    <tr>\n",
       "      <th>2000-01-06</th>\n",
       "      <td>24.78</td>\n",
       "    </tr>\n",
       "    <tr>\n",
       "      <th>2000-01-05</th>\n",
       "      <td>24.91</td>\n",
       "    </tr>\n",
       "    <tr>\n",
       "      <th>2000-01-04</th>\n",
       "      <td>25.55</td>\n",
       "    </tr>\n",
       "  </tbody>\n",
       "</table>\n",
       "<p>6038 rows × 1 columns</p>\n",
       "</div>"
      ],
      "text/plain": [
       "            Price\n",
       "Date             \n",
       "2023-07-25  79.64\n",
       "2023-07-24  78.74\n",
       "2023-07-21  77.07\n",
       "2023-07-20  75.63\n",
       "2023-07-19  75.35\n",
       "...           ...\n",
       "2000-01-10  24.67\n",
       "2000-01-07  24.22\n",
       "2000-01-06  24.78\n",
       "2000-01-05  24.91\n",
       "2000-01-04  25.55\n",
       "\n",
       "[6038 rows x 1 columns]"
      ]
     },
     "execution_count": 8,
     "metadata": {},
     "output_type": "execute_result"
    }
   ],
   "source": [
    "df['Date'] = pd.to_datetime(df['Date'])\n",
    "df=df.set_index('Date')\n",
    "df"
   ]
  },
  {
   "cell_type": "code",
   "execution_count": 9,
   "id": "6f5352ed",
   "metadata": {
    "ExecuteTime": {
     "end_time": "2023-07-25T20:27:30.310519Z",
     "start_time": "2023-07-25T20:27:30.138331Z"
    }
   },
   "outputs": [
    {
     "data": {
      "text/plain": [
       "<AxesSubplot:xlabel='Date'>"
      ]
     },
     "execution_count": 9,
     "metadata": {},
     "output_type": "execute_result"
    },
    {
     "data": {
      "image/png": "[encoded data removed]",
      "text/plain": [
       "<Figure size 640x480 with 1 Axes>"
      ]
     },
     "metadata": {},
     "output_type": "display_data"
    }
   ],
   "source": [
    "df.plot()"
   ]
  },
  {
   "cell_type": "code",
   "execution_count": 10,
   "id": "e0c20170",
   "metadata": {
    "ExecuteTime": {
     "end_time": "2023-07-25T20:27:30.497016Z",
     "start_time": "2023-07-25T20:27:30.312517Z"
    }
   },
   "outputs": [
    {
     "data": {
      "text/plain": [
       "array([[<AxesSubplot:title={'center':'Price'}>]], dtype=object)"
      ]
     },
     "execution_count": 10,
     "metadata": {},
     "output_type": "execute_result"
    },
    {
     "data": {
      "image/png": "[encoded data removed]",
      "text/plain": [
       "<Figure size 640x480 with 1 Axes>"
      ]
     },
     "metadata": {},
     "output_type": "display_data"
    }
   ],
   "source": [
    "df.hist()"
   ]
  },
  {
   "cell_type": "code",
   "execution_count": 11,
   "id": "1ee222a6",
   "metadata": {
    "ExecuteTime": {
     "end_time": "2023-07-25T20:27:30.580407Z",
     "start_time": "2023-07-25T20:27:30.499018Z"
    }
   },
   "outputs": [
    {
     "data": {
      "text/plain": [
       "<AxesSubplot:>"
      ]
     },
     "execution_count": 11,
     "metadata": {},
     "output_type": "execute_result"
    },
    {
     "data": {
      "image/png": "[encoded data removed]",
      "text/plain": [
       "<Figure size 640x480 with 1 Axes>"
      ]
     },
     "metadata": {},
     "output_type": "display_data"
    }
   ],
   "source": [
    "df.plot(kind='box')"
   ]
  },
  {
   "cell_type": "code",
   "execution_count": 12,
   "id": "36287119",
   "metadata": {
    "ExecuteTime": {
     "end_time": "2023-07-25T20:27:30.796108Z",
     "start_time": "2023-07-25T20:27:30.582041Z"
    }
   },
   "outputs": [
    {
     "data": {
      "text/plain": [
       "<AxesSubplot:ylabel='Density'>"
      ]
     },
     "execution_count": 12,
     "metadata": {},
     "output_type": "execute_result"
    },
    {
     "data": {
      "image/png": "[encoded data removed]",
      "text/plain": [
       "<Figure size 640x480 with 1 Axes>"
      ]
     },
     "metadata": {},
     "output_type": "display_data"
    }
   ],
   "source": [
    "df.plot(kind='kde')"
   ]
  },
  {
   "cell_type": "code",
   "execution_count": null,
   "id": "a2b10147",
   "metadata": {},
   "outputs": [],
   "source": []
  }
 ],
 "metadata": {
  "kernelspec": {
   "display_name": "Python 3 (ipykernel)",
   "language": "python",
   "name": "python3"
  },
  "language_info": {
   "codemirror_mode": {
    "name": "ipython",
    "version": 3
   },
   "file_extension": ".py",
   "mimetype": "text/x-python",
   "name": "python",
   "nbconvert_exporter": "python",
   "pygments_lexer": "ipython3",
   "version": "3.9.13"
  }
 },
 "nbformat": 4,
 "nbformat_minor": 5
}
